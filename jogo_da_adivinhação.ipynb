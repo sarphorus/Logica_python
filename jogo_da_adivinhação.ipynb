{
  "nbformat": 4,
  "nbformat_minor": 0,
  "metadata": {
    "colab": {
      "name": "jogo_da_adivinhação.ipynb",
      "provenance": [],
      "authorship_tag": "ABX9TyMmrPpnB6gXToYvAiMPzP5b",
      "include_colab_link": true
    },
    "kernelspec": {
      "name": "python3",
      "display_name": "Python 3"
    },
    "language_info": {
      "name": "python"
    }
  },
  "cells": [
    {
      "cell_type": "markdown",
      "metadata": {
        "id": "view-in-github",
        "colab_type": "text"
      },
      "source": [
        "<a href=\"https://colab.research.google.com/github/sarphorus/Logica_python/blob/main/jogo_da_adivinha%C3%A7%C3%A3o.ipynb\" target=\"_parent\"><img src=\"https://colab.research.google.com/assets/colab-badge.svg\" alt=\"Open In Colab\"/></a>"
      ]
    },
    {
      "cell_type": "markdown",
      "source": [
        "Adivinha o número que o PC sorteou. "
      ],
      "metadata": {
        "id": "rzxIvAtGlDRI"
      }
    },
    {
      "cell_type": "code",
      "execution_count": null,
      "metadata": {
        "id": "zHEk17Huk_Lp"
      },
      "outputs": [],
      "source": [
        "from random import randint\n",
        "pc_sorteia = randint(1,33)\n",
        "print(pc_sorteia)\n",
        "print()\n",
        "print(\"Adivinhe o número sorteado\\n \")\n",
        "while num != pc_sorteia:\n",
        "    num = int(input(\"Digite um número de 1 à 33: \"))\n",
        "    if num > 33:\n",
        "      print(\"Eu disse de 1 até 33\")\n",
        "      print(\"------------------------------\")\n",
        "    else:\n",
        "        if num > pc_sorteia:\n",
        "          print(\"O valor sorteado está um pouco abaixo... mas você está no caminho\")\n",
        "          print(\"=-=-=-=-=-=-=-=-=-=-=-=-=-=-=-=-=-=-=-=-=-=-=-=-=-=-=-=-=-=-=-=-=\")\n",
        "        elif num < pc_sorteia:\n",
        "          print(\"O valor sorteado está um pouco acima... mas você está no caminho\")\n",
        "          print(\"=-=-=-=-=-=-=-=-=-=-=-=-=-=-=-=-=-=-=-=-=-=-=-=-=-=-=-=-=-=-=-=-=\")\n",
        "        else:\n",
        "          print(\"Você acertou!!!\")   \n",
        "\n"
      ]
    },
    {
      "cell_type": "markdown",
      "source": [
        ""
      ],
      "metadata": {
        "id": "iQt5Qvpmk_wx"
      }
    }
  ]
}
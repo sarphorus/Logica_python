{
  "nbformat": 4,
  "nbformat_minor": 0,
  "metadata": {
    "colab": {
      "name": "exercicios_tijolos.ipynb",
      "provenance": [],
      "authorship_tag": "ABX9TyPJPut2ZtF3mlz5njwCbADH",
      "include_colab_link": true
    },
    "kernelspec": {
      "name": "python3",
      "display_name": "Python 3"
    },
    "language_info": {
      "name": "python"
    }
  },
  "cells": [
    {
      "cell_type": "markdown",
      "metadata": {
        "id": "view-in-github",
        "colab_type": "text"
      },
      "source": [
        "<a href=\"https://colab.research.google.com/github/sarphorus/Logica_python/blob/main/exercicios_tijolos.ipynb\" target=\"_parent\"><img src=\"https://colab.research.google.com/assets/colab-badge.svg\" alt=\"Open In Colab\"/></a>"
      ]
    },
    {
      "cell_type": "markdown",
      "source": [
        "Pergunte a pessoa quantos m² deseja para sua construção. Calcule a quantidade de tijolos gastos e o preço da construção. "
      ],
      "metadata": {
        "id": "I85eugrW3sA2"
      }
    },
    {
      "cell_type": "code",
      "execution_count": 17,
      "metadata": {
        "colab": {
          "base_uri": "https://localhost:8080/"
        },
        "id": "dw5fyyTlywF1",
        "outputId": "60d2d152-da71-4721-8646-82d559595358"
      },
      "outputs": [
        {
          "output_type": "stream",
          "name": "stdout",
          "text": [
            "Quantos m² você precisa para sua construção? 567\n",
            "A quantidade de tijolos para sua construção é de 22500 tijolos.\n",
            "Portanto, você irá gastar 31274 R$ na construção.\n"
          ]
        }
      ],
      "source": [
        "\n",
        "areaparede = int(input(\"Quantos m² você precisa para sua construção? \"))\n",
        "areatijolo = 0.0252 #área de um tijolo\n",
        "qntijolo = areaparede/areatijolo #A lógica para conseguirmos resolver seria: a area da parede dividido pela a área do tijolo.\n",
        "unidtijolo = 1.39 #preço de uma unidade de tijolo.\n",
        "\n",
        "print(f\"A quantidade de tijolos para sua construção é de {round(qntijolo)} tijolos.\") #round() é um dos metódos de arredondamento no Python\n",
        "\n",
        "unidtijolo = unidtijolo*qntijolo\n",
        "import math\n",
        "print(f\"Portanto, você irá gastar {math.floor(unidtijolo)} R$ na construção.\") #math.floor() também é um outro metódo de arredondamento."
      ]
    }
  ]
}
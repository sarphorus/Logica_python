{
  "nbformat": 4,
  "nbformat_minor": 0,
  "metadata": {
    "colab": {
      "name": "Untitled4.ipynb",
      "provenance": [],
      "collapsed_sections": [],
      "authorship_tag": "ABX9TyMM5HWmn/hsZMfQEn/3XQYD",
      "include_colab_link": true
    },
    "kernelspec": {
      "name": "python3",
      "display_name": "Python 3"
    },
    "language_info": {
      "name": "python"
    }
  },
  "cells": [
    {
      "cell_type": "markdown",
      "metadata": {
        "id": "view-in-github",
        "colab_type": "text"
      },
      "source": [
        "<a href=\"https://colab.research.google.com/github/sarphorus/Logica_python/blob/main/jokenpo.ipynb\" target=\"_parent\"><img src=\"https://colab.research.google.com/assets/colab-badge.svg\" alt=\"Open In Colab\"/></a>"
      ]
    },
    {
      "cell_type": "code",
      "execution_count": 50,
      "metadata": {
        "colab": {
          "base_uri": "https://localhost:8080/"
        },
        "id": "DEqV-OP9pAuh",
        "outputId": "aa98d92f-9857-4c79-b987-31c50f2aff5c"
      },
      "outputs": [
        {
          "output_type": "stream",
          "name": "stdout",
          "text": [
            "Pedra:1\n",
            "Papel:2\n",
            "tesoura:3\n",
            "2\n",
            "O bot escolheu Papel EMPATE\n"
          ]
        }
      ],
      "source": [
        "from random import randint\n",
        "op = int(input(\"Pedra:1\\nPapel:2\\ntesoura:3\\n\"))\n",
        "pc = randint(1,3)\n",
        "ppt = [\"\", \"Pedra\", \"Papel\", \"Tesoura\"]\n",
        "if op == pc:\n",
        "  print(f\"O bot escolheu {ppt[pc]} deu empate\")\n",
        "elif op == 1 and pc !=2:\n",
        "  print(f\"O bot escolheu {ppt[pc]} GANHOU!!\")\n",
        "\n",
        "#print(f\"Pc escolheu {pc} \" )\n",
        "\n",
        "#print(\"================Jokenpo================\")\n",
        "#print(\"Escolha uma opção: \")\n",
        "#input(op)\n",
        "#if op == pc:\n",
        "  #print(\"Empate!\")\n",
        "  #input(op)\n",
        "\n",
        "\n",
        "\n",
        "\n",
        "\n",
        "\n",
        "\n",
        "\n"
      ]
    }
  ]
}
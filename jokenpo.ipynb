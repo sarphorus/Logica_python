{
  "nbformat": 4,
  "nbformat_minor": 0,
  "metadata": {
    "colab": {
      "name": "Untitled4.ipynb",
      "provenance": [],
      "authorship_tag": "ABX9TyN36fEaYk2WYqwRT7RbSGNq",
      "include_colab_link": true
    },
    "kernelspec": {
      "name": "python3",
      "display_name": "Python 3"
    },
    "language_info": {
      "name": "python"
    }
  },
  "cells": [
    {
      "cell_type": "markdown",
      "metadata": {
        "id": "view-in-github",
        "colab_type": "text"
      },
      "source": [
        "<a href=\"https://colab.research.google.com/github/sarphorus/Logica_python/blob/main/jokenpo.ipynb\" target=\"_parent\"><img src=\"https://colab.research.google.com/assets/colab-badge.svg\" alt=\"Open In Colab\"/></a>"
      ]
    },
    {
      "cell_type": "code",
      "execution_count": 19,
      "metadata": {
        "colab": {
          "base_uri": "https://localhost:8080/"
        },
        "id": "NQDAoNiKL4ka",
        "outputId": "eb3e52c0-1a95-4d42-a835-98d33d687cc6"
      },
      "outputs": [
        {
          "output_type": "stream",
          "name": "stdout",
          "text": [
            "Jogo Pedra, Papel e Tesoura\n",
            "\n",
            "================ Partida 1 ===================\n",
            "Escolha com qual opção deseja jogar:\n",
            "          1 -> Pedra\n",
            "          2 -> Papel\n",
            "          3 -> Tesoura \n",
            "Digite sua opção: 1\n",
            "Deu empate. Tanto o Pc quanto vc escolheram Pedra\n"
          ]
        }
      ],
      "source": [
        "from random import randint  # da biblioteca random importe o randint (escolha dentro de inteiros)\n",
        "\n",
        "print(\"Jogo Pedra, Papel e Tesoura\")\n",
        "print()\n",
        "\n",
        "pc = randint(1,3) #Escolha do pc\n",
        "\n",
        "#Escolha do jogador\n",
        "controle = 1\n",
        "print(f\"================ Partida {controle} ===================\")\n",
        "print(\"\"\"Escolha com qual opção deseja jogar:\n",
        "          1 -> Pedra\n",
        "          2 -> Papel\n",
        "          3 -> Tesoura \"\"\")\n",
        "op = int(input(\"Digite sua opção: \"))\n",
        "\n",
        "vetor = [\"\", \"Pedra\", \"Papel\", \"Tesoura\"]\n",
        "# Descobrir quem ganhou\n",
        "if pc == op:\n",
        "  if pc == 1:\n",
        "    print(f\"Deu empate. Tanto o Pc quanto vc escolheram Pedra\")\n",
        "  elif pc == 2:\n",
        "    print(f\"Deu empate. Tanto o Pc quanto vc escolheram Papel\")\n",
        "  else:\n",
        "    print(f\"Deu empate. Tanto o Pc quanto vc escolheram Tesoura\")  \n",
        "elif pc == 1 and op == 2:\n",
        "  print(f\"Você ganhou!!! O Pc jogou Pedra e vc jogou Papel\")\n",
        "elif pc == 1 and op == 3:\n",
        "  print(f\"Você perdeu!!! Pc escolheu {vetor[pc]} e vc escolheu {vetor[op]}\")\n",
        "elif pc == 2 and op == 1:\n",
        "  print(f\"Você perdeu!!! Pc escolheu {vetor[pc]} e vc escolheu {vetor[op]}\")\n",
        "elif pc == 2 and op == 3:\n",
        "  print(f\"Você ganhou!!! O Pc jogou {vetor[pc]} e vc jogou {vetor[op]}\")\n",
        "elif pc == 3 and op == 1:\n",
        "  print(f\"Você ganhou!!! O Pc jogou {vetor[pc]} e vc jogou {vetor[op]}\")\n",
        "else:\n",
        "  print(f\"Você perdeu!!! Pc escolheu {vetor[pc]} e vc escolheu {vetor[op]}\")  \n"
      ]
    }
  ]
}
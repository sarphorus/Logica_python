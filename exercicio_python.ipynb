{
  "nbformat": 4,
  "nbformat_minor": 0,
  "metadata": {
    "colab": {
      "name": "exercicio_python.ipynb",
      "provenance": [],
      "authorship_tag": "ABX9TyNrMhUxMe/lh3sGIW9O1Shj",
      "include_colab_link": true
    },
    "kernelspec": {
      "name": "python3",
      "display_name": "Python 3"
    },
    "language_info": {
      "name": "python"
    }
  },
  "cells": [
    {
      "cell_type": "markdown",
      "metadata": {
        "id": "view-in-github",
        "colab_type": "text"
      },
      "source": [
        "<a href=\"https://colab.research.google.com/github/sarphorus/Logica_python/blob/main/exercicio_python.ipynb\" target=\"_parent\"><img src=\"https://colab.research.google.com/assets/colab-badge.svg\" alt=\"Open In Colab\"/></a>"
      ]
    },
    {
      "cell_type": "markdown",
      "source": [
        "Calcule a quantidade de cigarros que uma pessoa fumou. Esse programa tem que ser capaz de fazer uma análise e mostrar quantos minutos a pessoa perdeu de vida. Obs: Cada 200 cigarros, diminui 1 minuto de vida"
      ],
      "metadata": {
        "id": "gki5yRaYwKyd"
      }
    },
    {
      "cell_type": "code",
      "execution_count": 12,
      "metadata": {
        "colab": {
          "base_uri": "https://localhost:8080/"
        },
        "id": "Nmu8Ut9ctraw",
        "outputId": "110997e8-1d5e-4ec3-91e3-b6cd1f3281eb"
      },
      "outputs": [
        {
          "output_type": "stream",
          "name": "stdout",
          "text": [
            "Quantos cigarros em média você fuma por dia? 30\n",
            "Você fuma a quantos anos? 5\n",
            "Você já fumou 54750 na sua vida inteira.\n",
            "Você já perdeu 273 minutos fumando!!! PARE DE FUMAR\n"
          ]
        }
      ],
      "source": [
        "qntscigarros = int(input(\"Quantos cigarros em média você fuma por dia? \"))\n",
        "anosfumado = int(input(\"Você fuma a quantos anos? \"))\n",
        "\n",
        "totalcigarros = (anosfumado*365)*qntscigarros\n",
        "print(f\"Você já fumou {totalcigarros} na sua vida inteira.\")\n",
        "\n",
        "mntsperdidos = int(totalcigarros/200)\n",
        "print(f\"Você perdeu {mntsperdidos} minutos de vida\")\n"
      ]
    }
  ]
}
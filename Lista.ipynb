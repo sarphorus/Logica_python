{
  "nbformat": 4,
  "nbformat_minor": 0,
  "metadata": {
    "colab": {
      "name": "Lista.ipynb",
      "provenance": [],
      "authorship_tag": "ABX9TyMv07zUbqJ1uJSJ6Bhka4Xy",
      "include_colab_link": true
    },
    "kernelspec": {
      "name": "python3",
      "display_name": "Python 3"
    },
    "language_info": {
      "name": "python"
    }
  },
  "cells": [
    {
      "cell_type": "markdown",
      "metadata": {
        "id": "view-in-github",
        "colab_type": "text"
      },
      "source": [
        "<a href=\"https://colab.research.google.com/github/sarphorus/Logica_python/blob/main/Lista.ipynb\" target=\"_parent\"><img src=\"https://colab.research.google.com/assets/colab-badge.svg\" alt=\"Open In Colab\"/></a>"
      ]
    },
    {
      "cell_type": "code",
      "execution_count": 24,
      "metadata": {
        "id": "aK2XYTm3sTgM"
      },
      "outputs": [],
      "source": [
        "cursos = [\"introdução ao Python\", \"Criador de Conteudos\", \"Criador de sites\", \"Criador de Jogos\"]"
      ]
    },
    {
      "cell_type": "code",
      "source": [
        "print(cursos)\n",
        "print(f\"A lista tem {len(cursos)} cursos\") #len() = Quantidade de elementos de qualquer lista. Obs: A contagem começa em 0. "
      ],
      "metadata": {
        "colab": {
          "base_uri": "https://localhost:8080/"
        },
        "id": "U-Ww6Lf3KS52",
        "outputId": "042acd08-caeb-4fd3-e567-5b327f9fb8e0"
      },
      "execution_count": 23,
      "outputs": [
        {
          "output_type": "stream",
          "name": "stdout",
          "text": [
            "['introdução ao Python', 'Criador de Conteudos', 'Criador de sites', 'Criador de Jogos']\n",
            "A lista tem 4 cursos\n"
          ]
        }
      ]
    },
    {
      "cell_type": "code",
      "source": [
        "indice = int(input(print(\"Digite um número: \")))\n",
        "\n",
        "if indice < len(cursos):\n",
        "  print(f\"O curso no indice {indice} é o {cursos[indice]}\") #format nos permite juntar elementos em uma string por meio da formatação posicional.\n",
        "else:\n",
        "  print(f\"Este índice {indice} não é válido\")\n",
        "\n",
        "\n"
      ],
      "metadata": {
        "colab": {
          "base_uri": "https://localhost:8080/"
        },
        "id": "1jl87g8wOLKM",
        "outputId": "2b505f20-151f-4128-b233-6a029734facd"
      },
      "execution_count": 26,
      "outputs": [
        {
          "output_type": "stream",
          "name": "stdout",
          "text": [
            "Digite um número: \n",
            "2\n",
            "O curso no indice 2 é o Criador de sites\n"
          ]
        }
      ]
    }
  ]
}
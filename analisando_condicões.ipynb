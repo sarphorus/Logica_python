{
  "nbformat": 4,
  "nbformat_minor": 0,
  "metadata": {
    "colab": {
      "name": "analisando condicões.ipynb",
      "provenance": [],
      "authorship_tag": "ABX9TyNcLhZorAslTtfPBk/iuRXR",
      "include_colab_link": true
    },
    "kernelspec": {
      "name": "python3",
      "display_name": "Python 3"
    },
    "language_info": {
      "name": "python"
    },
    "accelerator": "GPU",
    "gpuClass": "standard"
  },
  "cells": [
    {
      "cell_type": "markdown",
      "metadata": {
        "id": "view-in-github",
        "colab_type": "text"
      },
      "source": [
        "<a href=\"https://colab.research.google.com/github/sarphorus/Logica_python/blob/main/analisando_condic%C3%B5es.ipynb\" target=\"_parent\"><img src=\"https://colab.research.google.com/assets/colab-badge.svg\" alt=\"Open In Colab\"/></a>"
      ]
    },
    {
      "cell_type": "code",
      "execution_count": 4,
      "metadata": {
        "colab": {
          "base_uri": "https://localhost:8080/"
        },
        "id": "ZJXR2oUMNEFr",
        "outputId": "9d99a40c-463d-48fd-bb51-081da254eefe"
      },
      "outputs": [
        {
          "output_type": "stream",
          "name": "stdout",
          "text": [
            "Posso pagar\n"
          ]
        }
      ],
      "source": [
        "gratuito = True\n",
        "if  gratuito:\n",
        "  print(\"Posso pagar\")\n",
        "else:\n",
        "  print(\"Será que posso?\")  \n",
        "\n",
        "\n"
      ]
    },
    {
      "cell_type": "code",
      "source": [
        "gratuito = True\n",
        "if not gratuito:\n",
        "  print(\"Posso pagar\")\n",
        "else:\n",
        "  print(\"Será que posso?\")  \n"
      ],
      "metadata": {
        "colab": {
          "base_uri": "https://localhost:8080/"
        },
        "id": "5WWc5tOeNhjU",
        "outputId": "3f73e106-71c7-4355-9b42-e7bfb1028cfa"
      },
      "execution_count": 3,
      "outputs": [
        {
          "output_type": "stream",
          "name": "stdout",
          "text": [
            "Será que posso?\n"
          ]
        }
      ]
    },
    {
      "cell_type": "code",
      "source": [
        "gratuito = False\n",
        "preco = 179.90\n",
        "if gratuito:\n",
        "  print(\"OPA, que bom saber disso!!!! Poderei fazer um curso para me capacitar\")\n",
        "elif preco < 100 :\n",
        "  print(\"interessante! Eu poderei pagar por esse preço!\")\n",
        "elif preco < 250:\n",
        "  print(\"Hmm.. Fica meio puxado, mas acho que consigo sim pagar\")\n",
        "else:\n",
        "  print(\"Poxa vida, não tenho condições... MAS quem sabe no futuro.\")  \n",
        "   \n",
        "\n",
        "\n",
        "\n"
      ],
      "metadata": {
        "id": "wv2h2qgJR-I-"
      },
      "execution_count": null,
      "outputs": []
    },
    {
      "cell_type": "markdown",
      "source": [
        "Faça um programa que exiba se um número é par ou ímpar. \n"
      ],
      "metadata": {
        "id": "BofCpO8EV9bE"
      }
    },
    {
      "cell_type": "code",
      "source": [
        "num1 = int(input(print(\"Digite um número: \")))\n",
        "\n",
        "if num1%2 == 0:\n",
        "  print(\"Seu número é par.\")\n",
        "else:\n",
        "  print(\"Seu número é impar.\") \n",
        "\n"
      ],
      "metadata": {
        "id": "1v-TPsJcWGZ7"
      },
      "execution_count": null,
      "outputs": []
    },
    {
      "cell_type": "markdown",
      "source": [
        "Faça um programa que responde se uma pessoa pode votar, é obrigada a votar, ou não pode votar, apenas baseando-se em sua idade"
      ],
      "metadata": {
        "id": "LSDc58QeWsnC"
      }
    },
    {
      "cell_type": "code",
      "source": [
        "idade = int(input(print(\"Qual é a sua idade\")))\n",
        "\n",
        "if idade >= 18:\n",
        "  print(\"Você é obrigado a votar!\")\n",
        "elif idade >= 16 < 18:\n",
        "  print(\"Você já pode votar, mas não é obrigatório.\")\n",
        "else:  \n",
        "  print(\"Você não pode votar.\")\n",
        "\n",
        "  \n"
      ],
      "metadata": {
        "colab": {
          "base_uri": "https://localhost:8080/"
        },
        "id": "OetB8ZfUWxLD",
        "outputId": "d0ca874b-7382-4273-afa6-977e9dfa9c81"
      },
      "execution_count": 37,
      "outputs": [
        {
          "output_type": "stream",
          "name": "stdout",
          "text": [
            "Qual é a sua idade\n",
            "17\n",
            "Você já pode votar, mas não é obrigatório.\n"
          ]
        }
      ]
    },
    {
      "cell_type": "code",
      "source": [
        ""
      ],
      "metadata": {
        "id": "tOf23_QeYHvD"
      },
      "execution_count": null,
      "outputs": []
    }
  ]
}
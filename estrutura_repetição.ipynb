{
  "nbformat": 4,
  "nbformat_minor": 0,
  "metadata": {
    "colab": {
      "name": "estrutura_repetição.ipynb",
      "provenance": [],
      "authorship_tag": "ABX9TyPOtKNNJcP3XYJ4mdLPUEAP",
      "include_colab_link": true
    },
    "kernelspec": {
      "name": "python3",
      "display_name": "Python 3"
    },
    "language_info": {
      "name": "python"
    }
  },
  "cells": [
    {
      "cell_type": "markdown",
      "metadata": {
        "id": "view-in-github",
        "colab_type": "text"
      },
      "source": [
        "<a href=\"https://colab.research.google.com/github/sarphorus/Logica_python/blob/main/estrutura_repeti%C3%A7%C3%A3o.ipynb\" target=\"_parent\"><img src=\"https://colab.research.google.com/assets/colab-badge.svg\" alt=\"Open In Colab\"/></a>"
      ]
    },
    {
      "cell_type": "code",
      "execution_count": null,
      "metadata": {
        "id": "ZUcgrRML6Xua"
      },
      "outputs": [],
      "source": [
        "cursos = [\"Design\",  \"Programação\", \"enfermagem\", \"administração\"]\n",
        "\n",
        "for curso in cursos:\n",
        "  print(curso)"
      ]
    },
    {
      "cell_type": "code",
      "source": [
        "for i in range(0,71,7):\n",
        "  print(i)"
      ],
      "metadata": {
        "id": "07teVBDt9ZyB"
      },
      "execution_count": null,
      "outputs": []
    },
    {
      "cell_type": "code",
      "source": [
        "i = 0\n",
        "while i < len(cursos):\n",
        "  print(cursos[i])\n",
        "  i = i+1\n"
      ],
      "metadata": {
        "colab": {
          "base_uri": "https://localhost:8080/"
        },
        "id": "NR00X0oI-z4x",
        "outputId": "b0ff11c4-7ff2-41aa-e774-b650795b198d"
      },
      "execution_count": 18,
      "outputs": [
        {
          "output_type": "stream",
          "name": "stdout",
          "text": [
            "Design\n",
            "Programação\n",
            "enfermagem\n",
            "administração\n"
          ]
        }
      ]
    },
    {
      "cell_type": "code",
      "source": [
        ""
      ],
      "metadata": {
        "id": "cM9b77XW-80T"
      },
      "execution_count": null,
      "outputs": []
    }
  ]
}
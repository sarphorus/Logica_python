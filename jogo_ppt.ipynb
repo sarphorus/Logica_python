{
  "nbformat": 4,
  "nbformat_minor": 0,
  "metadata": {
    "colab": {
      "name": "jogo_ppt.ipynb",
      "provenance": [],
      "authorship_tag": "ABX9TyMUaosIS4wNrOxuhIRTnRWS",
      "include_colab_link": true
    },
    "kernelspec": {
      "name": "python3",
      "display_name": "Python 3"
    },
    "language_info": {
      "name": "python"
    }
  },
  "cells": [
    {
      "cell_type": "markdown",
      "metadata": {
        "id": "view-in-github",
        "colab_type": "text"
      },
      "source": [
        "<a href=\"https://colab.research.google.com/github/sarphorus/Logica_python/blob/main/jogo_ppt.ipynb\" target=\"_parent\"><img src=\"https://colab.research.google.com/assets/colab-badge.svg\" alt=\"Open In Colab\"/></a>"
      ]
    },
    {
      "cell_type": "code",
      "execution_count": null,
      "metadata": {
        "colab": {
          "base_uri": "https://localhost:8080/"
        },
        "id": "NQDAoNiKL4ka",
        "outputId": "039abbb2-e3de-40b2-f1cb-7128c8606dba"
      },
      "outputs": [
        {
          "output_type": "stream",
          "name": "stdout",
          "text": [
            "Jogo Pedra, Papel e Tesoura\n",
            "\n",
            "================ Partida 1 ===================\n",
            "Escolha com qual opção deseja jogar:\n",
            "            1 -> Pedra\n",
            "            2 -> Papel\n",
            "            3 -> Tesoura \n",
            "Digite sua opção: 2\n",
            "--------------------------------------------------\n",
            "Você perdeu!!! Pc escolheu Tesoura e vc escolheu Papel\n",
            "--------------------------------------------------\n",
            "================ Partida 2 ===================\n",
            "Escolha com qual opção deseja jogar:\n",
            "            1 -> Pedra\n",
            "            2 -> Papel\n",
            "            3 -> Tesoura \n",
            "Digite sua opção: 1\n",
            "--------------------------------------------------\n",
            "Você perdeu!!! Pc escolheu Papel e vc escolheu Pedra\n",
            "--------------------------------------------------\n",
            "================ Partida 3 ===================\n",
            "Escolha com qual opção deseja jogar:\n",
            "            1 -> Pedra\n",
            "            2 -> Papel\n",
            "            3 -> Tesoura \n",
            "Digite sua opção: 3\n",
            "--------------------------------------------------\n",
            "Deu empate. Tanto o Pc quanto vc escolheram Tesoura\n",
            "--------------------------------------------------\n",
            "\n",
            "\n",
            "=================== Resultado ========================\n",
            "Na melhor de três tivemos: \n",
            "Ganhador foi o PC\n",
            "=-=-=-=-=-=-=-=-=-=-=FIM DE JOGO=-=-=-=-=-=-=-=-=-==-=-=-\n"
          ]
        }
      ],
      "source": [
        "from random import randint  # da biblioteca random importe o randint (escolha dentro de inteiros)\n",
        "\n",
        "print(\"Jogo Pedra, Papel e Tesoura\")\n",
        "print()\n",
        "\n",
        "\n",
        "ganhadorpc = 0\n",
        "ganhadorvc = 0\n",
        "#Escolha do jogador\n",
        "controle = 1\n",
        "while controle <=3:\n",
        "    pc = randint(1,3) #Escolha do pc\n",
        "    print(f\"================ Partida {controle} ===================\")\n",
        "    print(\"\"\"Escolha com qual opção deseja jogar:\n",
        "            1 -> Pedra\n",
        "            2 -> Papel\n",
        "            3 -> Tesoura \"\"\")\n",
        "    op = int(input(\"Digite sua opção: \"))\n",
        "\n",
        "  # Descobrir quem ganhou\n",
        "    if pc == op:\n",
        "      #Situação de empate \n",
        "      if pc == 1:\n",
        "        print(\"--------------------------------------------------\")\n",
        "        print(f\"Deu empate. Tanto o Pc quanto vc escolheram Pedra\")\n",
        "        print(\"--------------------------------------------------\")\n",
        "      elif pc == 2:\n",
        "        print(\"--------------------------------------------------\")\n",
        "        print(f\"Deu empate. Tanto o Pc quanto vc escolheram Papel\")\n",
        "        print(\"--------------------------------------------------\")\n",
        "      else:\n",
        "        print(\"--------------------------------------------------\")\n",
        "        print(f\"Deu empate. Tanto o Pc quanto vc escolheram Tesoura\")\n",
        "        print(\"--------------------------------------------------\")  \n",
        "    #Quando o jogador ganha\n",
        "    elif pc == 1 and op == 2:\n",
        "      ganhadorvc = 1\n",
        "      print(\"--------------------------------------------------\")\n",
        "      print(f\"Você ganhou!!! O Pc jogou Pedra e vc jogou Papel\")\n",
        "      print(\"--------------------------------------------------\")\n",
        "    \n",
        "    #Quando o pc ganha\n",
        "    elif pc == 1 and op == 3:\n",
        "      print(\"--------------------------------------------------\")\n",
        "      print(f\"Você perdeu!!! Pc escolheu Pedra e vc escolheu Tesoura\")\n",
        "      print(\"--------------------------------------------------\")\n",
        "      ganhadorpc = 1\n",
        "    \n",
        "    #Quando o pc ganha\n",
        "    elif pc == 2 and op == 1:\n",
        "      print(\"--------------------------------------------------\")\n",
        "      print(f\"Você perdeu!!! Pc escolheu Papel e vc escolheu Pedra\")\n",
        "      print(\"--------------------------------------------------\")\n",
        "      ganhadorpc = 1\n",
        "    \n",
        "    #Quando o jogador ganha\n",
        "    elif pc == 2 and op == 3:\n",
        "      print(\"--------------------------------------------------\")\n",
        "      print(f\"Você ganhou!!! O Pc jogou Papel e vc jogou Tesoura\")\n",
        "      print(\"--------------------------------------------------\")\n",
        "      ganhadorvc = 1\n",
        "    \n",
        "     #Quando o jogador ganha\n",
        "    elif pc == 3 and op == 1:\n",
        "      print(\"--------------------------------------------------\")\n",
        "      print(f\"Você ganhou!!! O Pc jogou Tesoura e vc jogou Pedra\")\n",
        "      print(\"--------------------------------------------------\")\n",
        "      ganhadorvc = 1    \n",
        "    \n",
        "    #Quando o pc ganha\n",
        "    else:\n",
        "      print(\"--------------------------------------------------\")\n",
        "      print(f\"Você perdeu!!! Pc escolheu Tesoura e vc escolheu Papel\") \n",
        "      print(\"--------------------------------------------------\") \n",
        "      ganhadorpc = 1   \n",
        "    controle = controle + 1\n",
        "    #print(pc)\n",
        "\n",
        "print()\n",
        "print()\n",
        "print(\"=================== Resultado ========================\")\n",
        "print(\"Na melhor de três tivemos: \")    \n",
        "if ganhadorpc > ganhadorvc:\n",
        "  print(\"Ganhador foi o PC\")\n",
        "elif ganhadorpc < ganhadorvc:\n",
        "  print(\"Ganhador foi você\") \n",
        "else:\n",
        "  print(\"EMPATE!!!!\")    \n",
        "\n",
        "\n",
        "print(\"=-=-=-=-=-=-=-=-=-=-=FIM DE JOGO=-=-=-=-=-=-=-=-=-==-=-=-\")\n"
      ]
    },
    {
      "cell_type": "code",
      "source": [
        "print(ganhadorpc)\n",
        "\n",
        "print(ganhadorvc)"
      ],
      "metadata": {
        "id": "siBZIUN1zsRm",
        "outputId": "8b525485-cec1-411b-b7c5-bc78c084ea5e",
        "colab": {
          "base_uri": "https://localhost:8080/"
        }
      },
      "execution_count": null,
      "outputs": [
        {
          "output_type": "stream",
          "name": "stdout",
          "text": [
            "1\n",
            "0\n"
          ]
        }
      ]
    }
  ]
}
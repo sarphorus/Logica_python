{
  "nbformat": 4,
  "nbformat_minor": 0,
  "metadata": {
    "colab": {
      "name": "entrada_e_saida_de_dados.ipynb",
      "provenance": [],
      "authorship_tag": "ABX9TyPKqziwiFL4SsK2lOwqf2r4",
      "include_colab_link": true
    },
    "kernelspec": {
      "name": "python3",
      "display_name": "Python 3"
    },
    "language_info": {
      "name": "python"
    }
  },
  "cells": [
    {
      "cell_type": "markdown",
      "metadata": {
        "id": "view-in-github",
        "colab_type": "text"
      },
      "source": [
        "<a href=\"https://colab.research.google.com/github/sarphorus/Logica_python/blob/main/entrada_e_saida_de_dados.ipynb\" target=\"_parent\"><img src=\"https://colab.research.google.com/assets/colab-badge.svg\" alt=\"Open In Colab\"/></a>"
      ]
    },
    {
      "cell_type": "markdown",
      "source": [
        "Entrada e Saída de Dados"
      ],
      "metadata": {
        "id": "UKVaeJAEXh2J"
      }
    },
    {
      "cell_type": "code",
      "execution_count": null,
      "metadata": {
        "id": "yUM4XlduW66V"
      },
      "outputs": [],
      "source": [
        "nome = str(input(print(\"Qual é o seu nome? \")))\n",
        "input(print(f\"Olá, {nome}, tudo bem contigo? \"))\n",
        "\n",
        "idade = int(input(print(\"Quantos anos você tem? \")))\n",
        "print(f\"Então o seu nome é {nome} e a sua idade é {idade}. \")"
      ]
    },
    {
      "cell_type": "code",
      "source": [
        "preço_barato = input(\"Qual o preço ideal para você ? \")\n",
        "print(f\"tipo antigo: {type(preço_barato)}\")\n",
        "preço_barato = float(preço_barato)\n",
        "print(f\"Tipo novo : {type(preço_barato)}\")\n",
        "\n"
      ],
      "metadata": {
        "colab": {
          "base_uri": "https://localhost:8080/"
        },
        "id": "aSg5phnvaTYA",
        "outputId": "3712c7a1-6bfa-40c6-ee4b-11b8be616adc"
      },
      "execution_count": 20,
      "outputs": [
        {
          "output_type": "stream",
          "name": "stdout",
          "text": [
            "Qual o preço ideal para você ? 12.5\n",
            "tipo antigo: <class 'str'>\n",
            "Tipo novo : <class 'float'>\n"
          ]
        }
      ]
    }
  ]
}
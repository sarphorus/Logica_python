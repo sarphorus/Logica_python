{
  "nbformat": 4,
  "nbformat_minor": 0,
  "metadata": {
    "colab": {
      "name": "exercicio_kms.ipynb",
      "provenance": [],
      "authorship_tag": "ABX9TyOGjUuz60Xm+Ll89z9wBUpz",
      "include_colab_link": true
    },
    "kernelspec": {
      "name": "python3",
      "display_name": "Python 3"
    },
    "language_info": {
      "name": "python"
    }
  },
  "cells": [
    {
      "cell_type": "markdown",
      "metadata": {
        "id": "view-in-github",
        "colab_type": "text"
      },
      "source": [
        "<a href=\"https://colab.research.google.com/github/sarphorus/Logica_python/blob/main/exercicio_kms.ipynb\" target=\"_parent\"><img src=\"https://colab.research.google.com/assets/colab-badge.svg\" alt=\"Open In Colab\"/></a>"
      ]
    },
    {
      "cell_type": "code",
      "execution_count": 21,
      "metadata": {
        "colab": {
          "base_uri": "https://localhost:8080/"
        },
        "id": "rHojdA5wWXGM",
        "outputId": "bbd47585-01f2-4aaf-fd64-b0991835921c"
      },
      "outputs": [
        {
          "output_type": "stream",
          "name": "stdout",
          "text": [
            "Qual foi a distância percorrida em km: 10\n",
            "Você irá pagar R$7.5 pelos kms percorridos.\n"
          ]
        }
      ],
      "source": [
        "#calcular a distancia percorrida e o valor que a pessoa vai pagar\n",
        "#SE a distancia passar de 50km, vai ser cobrado 0.50 por km senao 0.75 por km\n",
        "\n",
        "dist_perc = int(input(\"Qual foi a distância percorrida em km: \"))\n",
        "if dist_perc >= 50:\n",
        "  dist_perc = dist_perc*0.50\n",
        "  print(f\"Você irá pagar R${dist_perc} pelos km percorridos.\") \n",
        "else:\n",
        "  dist_perc = dist_perc*0.75\n",
        "  print(f\"Você irá pagar R${dist_perc} pelos km percorridos.\")"
      ]
    }
  ]
}